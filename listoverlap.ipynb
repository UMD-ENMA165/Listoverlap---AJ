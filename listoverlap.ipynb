{
 "cells": [
  {
   "cell_type": "markdown",
   "id": "6a967850-0a19-45bd-8b5c-87d9e24e9301",
   "metadata": {},
   "source": [
    "Take two lists, say for example these two:"
   ]
  },
  {
   "cell_type": "code",
   "execution_count": 3,
   "id": "eda7df7f-f1b2-4ae7-a452-7dea70d5aba3",
   "metadata": {},
   "outputs": [],
   "source": [
    "a = [1,1,2,3,5,8,13,21,34,55,89]\n",
    "b = [1,2,3,4,5,6,7,8,9,10,11,12,13]"
   ]
  },
  {
   "cell_type": "code",
   "execution_count": 4,
   "id": "5ed8e6f1-57c5-4566-b446-9303f682d8ec",
   "metadata": {},
   "outputs": [
    {
     "name": "stdout",
     "output_type": "stream",
     "text": [
      "1\n",
      "2\n",
      "3\n",
      "5\n",
      "8\n",
      "13\n"
     ]
    }
   ],
   "source": [
    "for i in b:\n",
    "    if i in a:\n",
    "        print(i)\n"
   ]
  },
  {
   "cell_type": "code",
   "execution_count": 5,
   "id": "825c6865-183c-43a3-89d7-fa6992689cc7",
   "metadata": {},
   "outputs": [
    {
     "name": "stdout",
     "output_type": "stream",
     "text": [
      "6\n",
      "5\n",
      "3\n",
      "6\n",
      "0\n",
      "3\n",
      "3\n"
     ]
    }
   ],
   "source": [
    "c = [6,74,3,5,8,5,3,6,8,9,0,9,8,8,4]\n",
    "d = [34,6,7,5,3,6,7,0,2,7,54,3,3]\n",
    "for i in d:\n",
    "    if i in c:\n",
    "        print(i)"
   ]
  },
  {
   "cell_type": "code",
   "execution_count": null,
   "id": "146de863-53ee-4d1a-8b64-0264da87f057",
   "metadata": {},
   "outputs": [],
   "source": []
  }
 ],
 "metadata": {
  "kernelspec": {
   "display_name": "Python 3 (ipykernel)",
   "language": "python",
   "name": "python3"
  },
  "language_info": {
   "codemirror_mode": {
    "name": "ipython",
    "version": 3
   },
   "file_extension": ".py",
   "mimetype": "text/x-python",
   "name": "python",
   "nbconvert_exporter": "python",
   "pygments_lexer": "ipython3",
   "version": "3.9.13"
  }
 },
 "nbformat": 4,
 "nbformat_minor": 5
}
