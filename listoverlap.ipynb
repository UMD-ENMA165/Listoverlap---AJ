{
 "cells": [
  {
   "cell_type": "markdown",
   "id": "6a967850-0a19-45bd-8b5c-87d9e24e9301",
   "metadata": {},
   "source": [
    "Take two lists, say for example these two:"
   ]
  },
  {
   "cell_type": "code",
   "execution_count": 7,
   "id": "eda7df7f-f1b2-4ae7-a452-7dea70d5aba3",
   "metadata": {},
   "outputs": [],
   "source": [
    "a = [1,1,2,3,5,8,13,21,34,55,89]\n",
    "b = [1,2,3,4,5,6,7,8,9,10,11,12,13]"
   ]
  },
  {
   "cell_type": "code",
   "execution_count": 8,
   "id": "5ed8e6f1-57c5-4566-b446-9303f682d8ec",
   "metadata": {},
   "outputs": [
    {
     "name": "stdout",
     "output_type": "stream",
     "text": [
      "1\n",
      "2\n",
      "3\n",
      "5\n",
      "8\n",
      "13\n"
     ]
    }
   ],
   "source": [
    "for i in b:\n",
    "    if i in a:\n",
    "        print(i)\n"
   ]
  },
  {
   "cell_type": "code",
   "execution_count": 15,
   "id": "825c6865-183c-43a3-89d7-fa6992689cc7",
   "metadata": {},
   "outputs": [
    {
     "data": {
      "text/plain": [
       "[6, 5, 3, 0]"
      ]
     },
     "execution_count": 15,
     "metadata": {},
     "output_type": "execute_result"
    }
   ],
   "source": [
    "lol = []\n",
    "c = [6,74,3,5,8,5,3,6,8,9,0,9,8,8,4]\n",
    "d = [34,6,7,5,3,6,7,0,2,7,54,3,3]\n",
    "for i in d:\n",
    "    if i in c:\n",
    "        if i in lol:\n",
    "            pass\n",
    "        else:\n",
    "            lol.append(i)\n",
    "lol"
   ]
  },
  {
   "cell_type": "markdown",
   "id": "03cf349a-7b3e-4391-af36-2858ed8ae554",
   "metadata": {},
   "source": [
    "### Class Answer to Function for No Duplicates"
   ]
  },
  {
   "cell_type": "code",
   "execution_count": 21,
   "id": "c62adc7c-05ce-459b-aa71-91cfe24fb9d7",
   "metadata": {},
   "outputs": [],
   "source": [
    "def listoverlap(list1, list2):\n",
    "    result = []\n",
    "    for i in list2:\n",
    "        if i in list1:\n",
    "            if i in result:\n",
    "                pass\n",
    "            else:\n",
    "                result.append(i)\n",
    "    return result"
   ]
  },
  {
   "cell_type": "code",
   "execution_count": 22,
   "id": "bb735937-d21d-42c0-8849-9385af2f9f47",
   "metadata": {},
   "outputs": [],
   "source": [
    "a = [1,1,2,3,5,8,13,21,34,55,89]\n",
    "b = [1,2,3,4,5,6,7,8,9,10,11,12,13]"
   ]
  },
  {
   "cell_type": "code",
   "execution_count": 23,
   "id": "adc7995f-e3e2-467f-aade-40a42109d8db",
   "metadata": {},
   "outputs": [
    {
     "name": "stdout",
     "output_type": "stream",
     "text": [
      "[1, 2, 3, 5, 8, 13]\n"
     ]
    }
   ],
   "source": [
    "print(listoverlap(a,b))"
   ]
  },
  {
   "cell_type": "markdown",
   "id": "2e2c01d8-7ef9-40ea-b5a1-6cea526c20a5",
   "metadata": {},
   "source": [
    "### Using Set to create list with no duplicates"
   ]
  },
  {
   "cell_type": "code",
   "execution_count": 26,
   "id": "57be967a-cba2-45c0-8163-d7c5a9c086ee",
   "metadata": {},
   "outputs": [
    {
     "data": {
      "text/plain": [
       "{1, 2, 3, 5, 8, 13}"
      ]
     },
     "execution_count": 26,
     "metadata": {},
     "output_type": "execute_result"
    }
   ],
   "source": [
    "set(a) & set(b)"
   ]
  },
  {
   "cell_type": "code",
   "execution_count": null,
   "id": "b3b5c3ba-efe9-487b-ab90-8f52864507df",
   "metadata": {},
   "outputs": [],
   "source": []
  },
  {
   "cell_type": "code",
   "execution_count": null,
   "id": "742cfe58-1ea2-44e4-af9a-8290867d2dce",
   "metadata": {},
   "outputs": [],
   "source": []
  }
 ],
 "metadata": {
  "kernelspec": {
   "display_name": "Python 3 (ipykernel)",
   "language": "python",
   "name": "python3"
  },
  "language_info": {
   "codemirror_mode": {
    "name": "ipython",
    "version": 3
   },
   "file_extension": ".py",
   "mimetype": "text/x-python",
   "name": "python",
   "nbconvert_exporter": "python",
   "pygments_lexer": "ipython3",
   "version": "3.9.13"
  }
 },
 "nbformat": 4,
 "nbformat_minor": 5
}
