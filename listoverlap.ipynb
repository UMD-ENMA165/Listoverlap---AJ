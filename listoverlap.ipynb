{
 "cells": [
  {
   "cell_type": "markdown",
   "id": "6a967850-0a19-45bd-8b5c-87d9e24e9301",
   "metadata": {},
   "source": [
    "Take two lists, say for example these two:"
   ]
  },
  {
   "cell_type": "code",
   "execution_count": 7,
   "id": "eda7df7f-f1b2-4ae7-a452-7dea70d5aba3",
   "metadata": {},
   "outputs": [],
   "source": [
    "a = [1,1,2,3,5,8,13,21,34,55,89]\n",
    "b = [1,2,3,4,5,6,7,8,9,10,11,12,13]"
   ]
  },
  {
   "cell_type": "code",
   "execution_count": 8,
   "id": "5ed8e6f1-57c5-4566-b446-9303f682d8ec",
   "metadata": {},
   "outputs": [
    {
     "name": "stdout",
     "output_type": "stream",
     "text": [
      "1\n",
      "2\n",
      "3\n",
      "5\n",
      "8\n",
      "13\n"
     ]
    }
   ],
   "source": [
    "for i in b:\n",
    "    if i in a:\n",
    "        print(i)\n"
   ]
  },
  {
   "cell_type": "code",
   "execution_count": 15,
   "id": "825c6865-183c-43a3-89d7-fa6992689cc7",
   "metadata": {},
   "outputs": [
    {
     "data": {
      "text/plain": [
       "[6, 5, 3, 0]"
      ]
     },
     "execution_count": 15,
     "metadata": {},
     "output_type": "execute_result"
    }
   ],
   "source": [
    "lol = []\n",
    "c = [6,74,3,5,8,5,3,6,8,9,0,9,8,8,4]\n",
    "d = [34,6,7,5,3,6,7,0,2,7,54,3,3]\n",
    "for i in d:\n",
    "    if i in c:\n",
    "        if i in lol:\n",
    "            pass\n",
    "        else:\n",
    "            lol.append(i)\n",
    "lol"
   ]
  },
  {
   "cell_type": "markdown",
   "id": "03cf349a-7b3e-4391-af36-2858ed8ae554",
   "metadata": {},
   "source": [
    "### Class Answer to Function for No Duplicates"
   ]
  },
  {
   "cell_type": "code",
   "execution_count": 21,
   "id": "c62adc7c-05ce-459b-aa71-91cfe24fb9d7",
   "metadata": {},
   "outputs": [],
   "source": [
    "def listoverlap(list1, list2):\n",
    "    result = []\n",
    "    for i in list2:\n",
    "        if i in list1:\n",
    "            if i in result:\n",
    "                pass\n",
    "            else:\n",
    "                result.append(i)\n",
    "    return result"
   ]
  },
  {
   "cell_type": "code",
   "execution_count": 22,
   "id": "bb735937-d21d-42c0-8849-9385af2f9f47",
   "metadata": {},
   "outputs": [],
   "source": [
    "a = [1,1,2,3,5,8,13,21,34,55,89]\n",
    "b = [1,2,3,4,5,6,7,8,9,10,11,12,13]"
   ]
  },
  {
   "cell_type": "code",
   "execution_count": 23,
   "id": "adc7995f-e3e2-467f-aade-40a42109d8db",
   "metadata": {},
   "outputs": [
    {
     "name": "stdout",
     "output_type": "stream",
     "text": [
      "[1, 2, 3, 5, 8, 13]\n"
     ]
    }
   ],
   "source": [
    "print(listoverlap(a,b))"
   ]
  },
  {
   "cell_type": "markdown",
   "id": "2e2c01d8-7ef9-40ea-b5a1-6cea526c20a5",
   "metadata": {},
   "source": [
    "### Using Set to create list with no duplicates"
   ]
  },
  {
   "cell_type": "code",
   "execution_count": 26,
   "id": "57be967a-cba2-45c0-8163-d7c5a9c086ee",
   "metadata": {},
   "outputs": [
    {
     "data": {
      "text/plain": [
       "{1, 2, 3, 5, 8, 13}"
      ]
     },
     "execution_count": 26,
     "metadata": {},
     "output_type": "execute_result"
    }
   ],
   "source": [
    "set(a) & set(b)"
   ]
  },
  {
   "cell_type": "code",
   "execution_count": 29,
   "id": "b3b5c3ba-efe9-487b-ab90-8f52864507df",
   "metadata": {},
   "outputs": [
    {
     "data": {
      "text/plain": [
       "[1, 2, 3, 5, 8, 13]"
      ]
     },
     "execution_count": 29,
     "metadata": {},
     "output_type": "execute_result"
    }
   ],
   "source": [
    "list(set(a) & set(b))"
   ]
  },
  {
   "cell_type": "markdown",
   "id": "90393176-967f-4609-a423-ae2d4eb63d1c",
   "metadata": {},
   "source": [
    "### Generate random to test"
   ]
  },
  {
   "cell_type": "code",
   "execution_count": 30,
   "id": "3b1e7208-93cb-4ce2-ba66-67652bd8cdbc",
   "metadata": {},
   "outputs": [],
   "source": [
    "import random"
   ]
  },
  {
   "cell_type": "code",
   "execution_count": 31,
   "id": "fd9ea477-19c8-4778-8be0-3357c098b2dd",
   "metadata": {},
   "outputs": [
    {
     "data": {
      "text/plain": [
       "\u001b[1;31mSignature:\u001b[0m \u001b[0mrandom\u001b[0m\u001b[1;33m.\u001b[0m\u001b[0mrandint\u001b[0m\u001b[1;33m(\u001b[0m\u001b[0ma\u001b[0m\u001b[1;33m,\u001b[0m \u001b[0mb\u001b[0m\u001b[1;33m)\u001b[0m\u001b[1;33m\u001b[0m\u001b[1;33m\u001b[0m\u001b[0m\n",
       "\u001b[1;31mDocstring:\u001b[0m\n",
       "Return random integer in range [a, b], including both end points.\n",
       "        \n",
       "\u001b[1;31mFile:\u001b[0m      c:\\programdata\\anaconda3\\lib\\random.py\n",
       "\u001b[1;31mType:\u001b[0m      method\n"
      ]
     },
     "metadata": {},
     "output_type": "display_data"
    }
   ],
   "source": [
    "random.randint?"
   ]
  },
  {
   "cell_type": "code",
   "execution_count": 32,
   "id": "b099c94a-7426-4c28-9a43-c6bd66369d46",
   "metadata": {},
   "outputs": [
    {
     "data": {
      "text/plain": [
       "\u001b[1;31mSignature:\u001b[0m \u001b[0mrandom\u001b[0m\u001b[1;33m.\u001b[0m\u001b[0mrandom\u001b[0m\u001b[1;33m(\u001b[0m\u001b[1;33m)\u001b[0m\u001b[1;33m\u001b[0m\u001b[1;33m\u001b[0m\u001b[0m\n",
       "\u001b[1;31mDocstring:\u001b[0m random() -> x in the interval [0, 1).\n",
       "\u001b[1;31mType:\u001b[0m      builtin_function_or_method\n"
      ]
     },
     "metadata": {},
     "output_type": "display_data"
    }
   ],
   "source": [
    "random.random?"
   ]
  },
  {
   "cell_type": "markdown",
   "id": "de1f0da6-f66d-467c-a241-792f03ed90cc",
   "metadata": {},
   "source": []
  }
 ],
 "metadata": {
  "kernelspec": {
   "display_name": "Python 3 (ipykernel)",
   "language": "python",
   "name": "python3"
  },
  "language_info": {
   "codemirror_mode": {
    "name": "ipython",
    "version": 3
   },
   "file_extension": ".py",
   "mimetype": "text/x-python",
   "name": "python",
   "nbconvert_exporter": "python",
   "pygments_lexer": "ipython3",
   "version": "3.9.13"
  }
 },
 "nbformat": 4,
 "nbformat_minor": 5
}
