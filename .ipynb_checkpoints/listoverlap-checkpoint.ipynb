{
 "cells": [
  {
   "cell_type": "markdown",
   "id": "6a967850-0a19-45bd-8b5c-87d9e24e9301",
   "metadata": {},
   "source": [
    "Take two lists, say for example these two:"
   ]
  },
  {
   "cell_type": "code",
   "execution_count": 1,
   "id": "eda7df7f-f1b2-4ae7-a452-7dea70d5aba3",
   "metadata": {},
   "outputs": [],
   "source": [
    "a = [1,1,2,3,5,8,13,21,34,55,89]\n",
    "b = [1,2,3,4,5,6,7,8,9,10,11,12,13]"
   ]
  },
  {
   "cell_type": "code",
   "execution_count": null,
   "id": "5ed8e6f1-57c5-4566-b446-9303f682d8ec",
   "metadata": {},
   "outputs": [],
   "source": []
  }
 ],
 "metadata": {
  "kernelspec": {
   "display_name": "Python 3 (ipykernel)",
   "language": "python",
   "name": "python3"
  },
  "language_info": {
   "codemirror_mode": {
    "name": "ipython",
    "version": 3
   },
   "file_extension": ".py",
   "mimetype": "text/x-python",
   "name": "python",
   "nbconvert_exporter": "python",
   "pygments_lexer": "ipython3",
   "version": "3.9.13"
  }
 },
 "nbformat": 4,
 "nbformat_minor": 5
}
